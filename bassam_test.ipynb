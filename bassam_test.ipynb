{
  "nbformat": 4,
  "nbformat_minor": 0,
  "metadata": {
    "colab": {
      "name": "bassam_test.ipynb",
      "provenance": [],
      "authorship_tag": "ABX9TyNVUq+ZNnqjvsVcxails10K",
      "include_colab_link": true
    },
    "kernelspec": {
      "name": "python3",
      "display_name": "Python 3"
    },
    "language_info": {
      "name": "python"
    }
  },
  "cells": [
    {
      "cell_type": "markdown",
      "metadata": {
        "id": "view-in-github",
        "colab_type": "text"
      },
      "source": [
        "<a href=\"https://colab.research.google.com/github/srj7/Bassam-test/blob/main/bassam_test.ipynb\" target=\"_parent\"><img src=\"https://colab.research.google.com/assets/colab-badge.svg\" alt=\"Open In Colab\"/></a>"
      ]
    },
    {
      "cell_type": "markdown",
      "metadata": {
        "id": "uejBomG8U-1c"
      },
      "source": [
        "Problem 1: Consider two variables ‘var1’, ‘var2’ with integer values. Without the use of a third variable, swap the values of these two variables.\n"
      ]
    },
    {
      "cell_type": "code",
      "metadata": {
        "colab": {
          "base_uri": "https://localhost:8080/"
        },
        "id": "60t0AYQgT28W",
        "outputId": "2173a813-08b6-402c-e3ec-675ed1215fb5"
      },
      "source": [
        "#Reading integers\n",
        "var1 = int(input(\"Enter first integer :\"))  \n",
        "var2 = int(input(\"Enter second integer :\"))\n",
        "print(\"before swapping: %d   %d\" %(var1,var2))  \n",
        "#swapping\n",
        "var1 = var1 + var2    \n",
        "var2 = var1 - var2    \n",
        "var1 = var1 - var2       \n",
        "print(\"After swapping: %d   %d\\n\"%(var1,var2))  "
      ],
      "execution_count": 2,
      "outputs": [
        {
          "output_type": "stream",
          "name": "stdout",
          "text": [
            "Enter first integer :177\n",
            "Enter second integer :255\n",
            "before swapping: 177   255\n",
            "After swapping: 255   177\n",
            "\n"
          ]
        }
      ]
    },
    {
      "cell_type": "markdown",
      "metadata": {
        "id": "gx84WbgtVN-D"
      },
      "source": [
        "Problem 2: The user enters a string and a substring. You have to print the number of times that the substring occurs in the given string. String traversal will take place from left to right, not from right to left. String letters are case sensitive."
      ]
    },
    {
      "cell_type": "code",
      "metadata": {
        "colab": {
          "base_uri": "https://localhost:8080/"
        },
        "id": "h2oN12tsXcLd",
        "outputId": "754213fb-9fc0-4d22-9116-64aeec6263e3"
      },
      "source": [
        "string = str(input(\"Enter string :\"))\n",
        "sub_string = str(input(\"Enter sub string :\"))\n",
        "len1 = len(string)\n",
        "len2 = len(sub_string)\n",
        "count = 0\n",
        "for i in range(0, (len1 - len2 + 1)):\n",
        "    temp = string[i:i+len2]\n",
        "    if temp == sub_string:\n",
        "        count += 1\n",
        "print(count)"
      ],
      "execution_count": null,
      "outputs": [
        {
          "output_type": "stream",
          "name": "stdout",
          "text": [
            "Enter string :Odoo\n",
            "Enter sub string :o\n",
            "2\n"
          ]
        }
      ]
    },
    {
      "cell_type": "markdown",
      "metadata": {
        "id": "Y9mBUVP3Z2TD"
      },
      "source": [
        "Problem 3: You are given a string and your task is to swap cases. In other words, convert all lowercase letters to uppercase letters and vice versa."
      ]
    },
    {
      "cell_type": "code",
      "metadata": {
        "colab": {
          "base_uri": "https://localhost:8080/"
        },
        "id": "d6nsldCYZ8q8",
        "outputId": "33ba8dce-fce5-4b9d-c407-c777a8a9f706"
      },
      "source": [
        "string = str(input(\"Enter string :\"))  \n",
        "# prints after swappong all cases\n",
        "print(string.swapcase())   "
      ],
      "execution_count": null,
      "outputs": [
        {
          "output_type": "stream",
          "name": "stdout",
          "text": [
            "Enter string :OdOo\n",
            "oDoO\n"
          ]
        }
      ]
    }
  ]
}