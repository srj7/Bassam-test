{
  "nbformat": 4,
  "nbformat_minor": 0,
  "metadata": {
    "colab": {
      "name": "bassam_test.ipynb",
      "provenance": [],
      "collapsed_sections": [],
      "authorship_tag": "ABX9TyPYh3mMO6TQHkq2WK1NRx/8",
      "include_colab_link": true
    },
    "kernelspec": {
      "name": "python3",
      "display_name": "Python 3"
    },
    "language_info": {
      "name": "python"
    }
  },
  "cells": [
    {
      "cell_type": "markdown",
      "metadata": {
        "id": "view-in-github",
        "colab_type": "text"
      },
      "source": [
        "<a href=\"https://colab.research.google.com/github/srj7/Bassam-test/blob/main/bassam_test.ipynb\" target=\"_parent\"><img src=\"https://colab.research.google.com/assets/colab-badge.svg\" alt=\"Open In Colab\"/></a>"
      ]
    },
    {
      "cell_type": "markdown",
      "metadata": {
        "id": "uejBomG8U-1c"
      },
      "source": [
        "**Problem 1: Consider two variables ‘var1’, ‘var2’ with integer values. Without the use of a third variable, swap the values of these two variables.**"
      ]
    },
    {
      "cell_type": "code",
      "metadata": {
        "colab": {
          "base_uri": "https://localhost:8080/"
        },
        "id": "60t0AYQgT28W",
        "outputId": "6c66ad79-77cd-4bf4-b1ee-02ee077565c9"
      },
      "source": [
        "#Reading integers\n",
        "var1 = int(input(\"Enter first integer :\"))  \n",
        "var2 = int(input(\"Enter second integer :\"))\n",
        "print(\"before swapping: %d   %d\" %(var1,var2))  \n",
        "#swapping\n",
        "var1 = var1 + var2    \n",
        "var2 = var1 - var2    \n",
        "var1 = var1 - var2       \n",
        "print(\"After swapping: %d   %d\"%(var1,var2))  "
      ],
      "execution_count": 36,
      "outputs": [
        {
          "output_type": "stream",
          "name": "stdout",
          "text": [
            "Enter first integer :155\n",
            "Enter second integer :250\n",
            "before swapping: 155   250\n",
            "After swapping: 250   155\n"
          ]
        }
      ]
    },
    {
      "cell_type": "markdown",
      "metadata": {
        "id": "gx84WbgtVN-D"
      },
      "source": [
        "**Problem 2: The user enters a string and a substring. You have to print the number of times that the substring occurs in the given string. String traversal will take place from left to right, not from right to left. String letters are case sensitive.**"
      ]
    },
    {
      "cell_type": "code",
      "metadata": {
        "colab": {
          "base_uri": "https://localhost:8080/"
        },
        "id": "5Syf7of5i3Az",
        "outputId": "04cd6b3a-707d-4e55-bdc1-0aa153f8ac0c"
      },
      "source": [
        "#Reading string and substring\n",
        "string = str(input(\"Enter string :\"))\n",
        "sub_string = str(input(\"Enter sub string :\"))\n",
        "# number of occurrence of string\n",
        "print('Number of occurrence of sub string:', string.count(sub_string))"
      ],
      "execution_count": 45,
      "outputs": [
        {
          "output_type": "stream",
          "name": "stdout",
          "text": [
            "Enter string :Python is pyt Pyt PYT PyT\n",
            "Enter sub string :Pyt\n",
            "Number of occurrence of sub string: 2\n"
          ]
        }
      ]
    },
    {
      "cell_type": "markdown",
      "metadata": {
        "id": "uCHLRi33dxNk"
      },
      "source": [
        "**Problem 3: You are given a string and your task is to swap cases. In other words, convert all lowercase letters to uppercase letters and vice versa.**"
      ]
    },
    {
      "cell_type": "code",
      "metadata": {
        "colab": {
          "base_uri": "https://localhost:8080/"
        },
        "id": "cKqZplQseQkh",
        "outputId": "3de10d61-e1de-4eb9-b9f3-1abe789cac0b"
      },
      "source": [
        "#Reading string\n",
        "string = str(input(\"Enter a string :\"))  \n",
        "# prints after swapping all cases\n",
        "print(\"After swapping cases:\",string.swapcase())   "
      ],
      "execution_count": 34,
      "outputs": [
        {
          "output_type": "stream",
          "name": "stdout",
          "text": [
            "Enter a string :OdoO\n",
            "After swapping cases: oDOo\n"
          ]
        }
      ]
    }
  ]
}